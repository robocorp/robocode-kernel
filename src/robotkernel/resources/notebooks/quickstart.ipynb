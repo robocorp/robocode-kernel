{
 "cells": [
  {
   "cell_type": "markdown",
   "metadata": {},
   "source": [
    "# Quick Start for Robot Framework on Jupyter"
   ]
  },
  {
   "cell_type": "markdown",
   "metadata": {},
   "source": [
    "Congratulations for trying out Robot Framework on the interactive Jupyter platform!"
   ]
  },
  {
   "cell_type": "markdown",
   "metadata": {},
   "source": [
    "If you did not open this in any Jupyter application, please, [open this notebook at Binder cloud environment](https://mybinder.org/v2/gh/robots-from-jupyter/robotkernel/master?urlpath=lab) for interactive Jupyter experience."
   ]
  },
  {
   "cell_type": "markdown",
   "metadata": {},
   "source": [
    "You may complete each chapter of this guided start tutorial simply by pressing `SHIFT + ENTER` again and again to advance one cell execution at time until the end of the notebook."
   ]
  },
  {
   "cell_type": "markdown",
   "metadata": {},
   "source": [
    "## Robot notebook structure"
   ]
  },
  {
   "cell_type": "markdown",
   "metadata": {},
   "source": [
    "Robot Framework notebooks may contain any amount of markdown cells and code cells. Each code cell must start with a valid [Robot Framework test data section header](https://robotframework.org/robotframework/latest/RobotFrameworkUserGuide.html#test-data-sections)."
   ]
  },
  {
   "cell_type": "code",
   "execution_count": 3,
   "metadata": {},
   "outputs": [],
   "source": [
    "*** Settings ***\n",
    "\n",
    "Library  String"
   ]
  },
  {
   "cell_type": "code",
   "execution_count": 5,
   "metadata": {},
   "outputs": [
    {
     "data": {
      "application/vnd.jupyter.widget-view+json": {
       "model_id": "497cd89ab8284533aa09e9eae16558d0",
       "version_major": 2,
       "version_minor": 0
      },
      "text/plain": [
       "Box(children=(Button(description='Starts With', style=ButtonStyle()), Label(value='expected='), Text(value='')…"
      ]
     },
     "metadata": {},
     "output_type": "display_data"
    },
    {
     "data": {
      "application/vnd.jupyter.widget-view+json": {
       "model_id": "95e9468a82754a7694b8a34cf9c5e088",
       "version_major": 2,
       "version_minor": 0
      },
      "text/plain": [
       "Output()"
      ]
     },
     "metadata": {},
     "output_type": "display_data"
    }
   ],
   "source": [
    "*** Keywords ***\n",
    "\n",
    "Starts With\n",
    "    [Arguments]    ${expected}  ${value}\n",
    "    Should Start With    ${expected}    ${value}"
   ]
  },
  {
   "cell_type": "markdown",
   "metadata": {},
   "source": [
    "That said, it is ok for a cell to contain multiple headers, and the same header may occure more than once in the same notebook."
   ]
  },
  {
   "cell_type": "code",
   "execution_count": null,
   "metadata": {},
   "outputs": [],
   "source": [
    "*** Variables ***\n",
    "\n",
    "${MESSAGE}  Hello World\n",
    "\n",
    "*** Test Cases ***\n",
    "\n",
    "Message is Hello World\n",
    "    Should be equal  ${MESSAGE}  Hello World"
   ]
  },
  {
   "cell_type": "markdown",
   "metadata": {},
   "source": [
    "After executing a cell containing either `*** Test Cases ***` or `*** Tasks ***`, a complete Robot Framework test or task suite is being built, executed and its log and report are being attached to the notebook as links **Log | Report**.\n",
    "\n",
    "Clicking **Log** or **Report** will open the attachment in a new browser tab or window, where it can be browsed further or download.\n",
    "\n",
    "An executed notebook can then be saved and shared as a single standalone `.ipynb` file with the embedded execution logs and reports. Read-only viewing of `.ipynb` files is widely supported."
   ]
  },
  {
   "cell_type": "markdown",
   "metadata": {},
   "source": [
    "## Prototyping keywords"
   ]
  },
  {
   "cell_type": "markdown",
   "metadata": {},
   "source": [
    "To ease prototyping custom keywords, executing a cell with one ore more keywords will result in argument fields and execution button being rendered below the cell.\n",
    "\n",
    "Pressing the button will create a complete Robot Framework task suite for executing the keyword, execute it and attach the logs.\n",
    "\n",
    "Executing the same cell twice, will hide the button – preferred when saving the notebook for sharing."
   ]
  },
  {
   "cell_type": "code",
   "execution_count": null,
   "metadata": {},
   "outputs": [],
   "source": [
    "*** Keywords ***\n",
    "\n",
    "Return the given argument string\n",
    "    [Arguments]  ${message}=Hello World!\n",
    "    [Return]  ${message}"
   ]
  },
  {
   "cell_type": "markdown",
   "metadata": {},
   "source": [
    "If the cell with the keyword is not executed after a change in its robot code, the button will continue to execute the old version of the keyword."
   ]
  },
  {
   "cell_type": "markdown",
   "metadata": {},
   "source": [
    "If the keyword returns a value, the value will displayed between the cell and **Log | Report** links."
   ]
  },
  {
   "cell_type": "markdown",
   "metadata": {},
   "source": [
    "## Prototyping libraries"
   ]
  },
  {
   "cell_type": "markdown",
   "metadata": {},
   "source": [
    "To ease prototyping Python keywords, a code cell could start with `%%python module ModuleName` magic words to describe a new keyword library as a Python module."
   ]
  },
  {
   "cell_type": "code",
   "execution_count": null,
   "metadata": {},
   "outputs": [],
   "source": [
    "%%python module GraphLibrary\n",
    "\n",
    "import base64\n",
    "import io\n",
    "import matplotlib.pyplot as plt\n",
    "import robot\n",
    "import urllib\n",
    "\n",
    "\n",
    "class GraphLibrary:\n",
    "    def log_as_graph(self, *args):\n",
    "        \"\"\"Log list of values as a graph\"\"\"\n",
    "        buffer = io.BytesIO()\n",
    "        # Plot\n",
    "        plt.plot(list(map(float, *args)))\n",
    "        plt.savefig(buffer, format='png')\n",
    "        plt.clf()\n",
    "        # Log\n",
    "        uri = 'data:image/png;base64,' + \\\n",
    "           urllib.parse.quote(base64.b64encode(buffer.getvalue()))\n",
    "        html = '<img src=\"' + uri +'\"/>'\n",
    "        robot.api.logger.info(html, html=True)"
   ]
  },
  {
   "cell_type": "markdown",
   "metadata": {},
   "source": [
    "Once the cell with Python module has been executed, it is injected it is available to be imported as Robot Framework keyword library and its keywords can be used in tests or tasks as usual."
   ]
  },
  {
   "cell_type": "code",
   "execution_count": null,
   "metadata": {},
   "outputs": [],
   "source": [
    "*** Settings ***\n",
    "\n",
    "Library  GraphLibrary\n",
    "\n",
    "*** Test Cases ***\n",
    "\n",
    "Show a graph\n",
    "    ${series}=  Create list  \n",
    "    ...  5  5  5  5  5  5  4  10  2  5  5  5  5  5  5\n",
    "    Log as graph  ${series}"
   ]
  },
  {
   "cell_type": "markdown",
   "metadata": {},
   "source": [
    "## Learn more"
   ]
  },
  {
   "cell_type": "markdown",
   "metadata": {},
   "source": [
    "Learn more by just playing with the Jupyter environment, or reading the [RobotKernel documentation](https://robots-from-jupyter.github.io/robotkernel/)."
   ]
  },
  {
   "cell_type": "markdown",
   "metadata": {},
   "source": [
    "**We wish you great time with Robot Framework and Jupyter!**"
   ]
  }
 ],
 "metadata": {
  "kernelspec": {
   "display_name": "Robot Framework",
   "language": "robotframework",
   "name": "robotkernel"
  },
  "language_info": {
   "codemirror_mode": "robotframework",
   "file_extension": ".robot",
   "mimetype": "text/x-robotframework",
   "name": "Robot Framework",
   "pygments_lexer": "robotframework"
  },
  "widgets": {
   "application/vnd.jupyter.widget-state+json": {
    "state": {
     "15be98df6f5f422d818256638b100f1a": {
      "model_module": "@jupyter-widgets/base",
      "model_module_version": "1.2.0",
      "model_name": "LayoutModel",
      "state": {}
     },
     "24103291265b475fa988218993c6d6b5": {
      "model_module": "@jupyter-widgets/controls",
      "model_module_version": "1.5.0",
      "model_name": "TextModel",
      "state": {
       "layout": "IPY_MODEL_4b1c08abc7474f6ca6106c42c18048e8",
       "style": "IPY_MODEL_bdf11322644b4575bbdcd8e341ac2e09",
       "value": "Hello World!"
      }
     },
     "461f4a26e68640e0a60069f9c423d75d": {
      "model_module": "@jupyter-widgets/controls",
      "model_module_version": "1.5.0",
      "model_name": "DescriptionStyleModel",
      "state": {
       "description_width": ""
      }
     },
     "4b1c08abc7474f6ca6106c42c18048e8": {
      "model_module": "@jupyter-widgets/base",
      "model_module_version": "1.2.0",
      "model_name": "LayoutModel",
      "state": {}
     },
     "652793b8aa724d1a88a34565a291174f": {
      "model_module": "@jupyter-widgets/base",
      "model_module_version": "1.2.0",
      "model_name": "LayoutModel",
      "state": {}
     },
     "753ca2f74d304e2c8fbe77bd8e5a2249": {
      "model_module": "@jupyter-widgets/controls",
      "model_module_version": "1.5.0",
      "model_name": "ButtonStyleModel",
      "state": {}
     },
     "7942bbf9b8cf4929a06d4b4fac091d56": {
      "model_module": "@jupyter-widgets/controls",
      "model_module_version": "1.5.0",
      "model_name": "BoxModel",
      "state": {
       "children": [
        "IPY_MODEL_f534c2cdfd3047c19998d6b8925a0a75",
        "IPY_MODEL_89d179db6d7141f2983d73cbf114d009",
        "IPY_MODEL_24103291265b475fa988218993c6d6b5"
       ],
       "layout": "IPY_MODEL_c7fdd5a607584693936d714dbb20ff0f"
      }
     },
     "89d179db6d7141f2983d73cbf114d009": {
      "model_module": "@jupyter-widgets/controls",
      "model_module_version": "1.5.0",
      "model_name": "LabelModel",
      "state": {
       "layout": "IPY_MODEL_15be98df6f5f422d818256638b100f1a",
       "style": "IPY_MODEL_461f4a26e68640e0a60069f9c423d75d",
       "value": "message="
      }
     },
     "b757e6a76fc74334b03d86a819471509": {
      "model_module": "@jupyter-widgets/base",
      "model_module_version": "1.2.0",
      "model_name": "LayoutModel",
      "state": {}
     },
     "bdf11322644b4575bbdcd8e341ac2e09": {
      "model_module": "@jupyter-widgets/controls",
      "model_module_version": "1.5.0",
      "model_name": "DescriptionStyleModel",
      "state": {
       "description_width": ""
      }
     },
     "c7fdd5a607584693936d714dbb20ff0f": {
      "model_module": "@jupyter-widgets/base",
      "model_module_version": "1.2.0",
      "model_name": "LayoutModel",
      "state": {
       "display": "flex",
       "flex_flow": "row",
       "justify_content": "flex-start"
      }
     },
     "f534c2cdfd3047c19998d6b8925a0a75": {
      "model_module": "@jupyter-widgets/controls",
      "model_module_version": "1.5.0",
      "model_name": "ButtonModel",
      "state": {
       "description": "Return the given argument string",
       "layout": "IPY_MODEL_b757e6a76fc74334b03d86a819471509",
       "style": "IPY_MODEL_753ca2f74d304e2c8fbe77bd8e5a2249"
      }
     },
     "fac327b36e4e4f0cb35ab1d137435f52": {
      "model_module": "@jupyter-widgets/output",
      "model_module_version": "1.0.0",
      "model_name": "OutputModel",
      "state": {
       "layout": "IPY_MODEL_652793b8aa724d1a88a34565a291174f"
      }
     }
    },
    "version_major": 2,
    "version_minor": 0
   }
  }
 },
 "nbformat": 4,
 "nbformat_minor": 4
}
